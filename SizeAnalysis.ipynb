{
 "cells": [
  {
   "cell_type": "markdown",
   "metadata": {
    "id": "uM3giKLgbwgF"
   },
   "source": [
    "# Analysis of the particle sizes from segmentation output\n",
    "You should have an output file named `Results.csv` from FIJI/ImageJ segmentation. If you are using Google Colab to run this code, you will need to upload the file manually to Google using the `File` menu to the left.  "
   ]
  },
  {
   "cell_type": "code",
   "execution_count": 1,
   "metadata": {
    "id": "GTIhuJXYbva8"
   },
   "outputs": [],
   "source": [
    "import pandas as pd\n",
    "import numpy as np\n",
    "import seaborn as sns"
   ]
  },
  {
   "cell_type": "markdown",
   "metadata": {
    "id": "mBObqOWmh2Zf"
   },
   "source": [
    "Write code below to read the `Results.csv` file as a pandas DataFrame and store it in the object named `measurements`. Show the head of the DataFrame."
   ]
  },
  {
   "cell_type": "code",
   "execution_count": 6,
   "metadata": {
    "id": "DaYDPgcogyxz"
   },
   "outputs": [
    {
     "data": {
      "text/plain": [
       "<bound method NDFrame.head of             Area  Mean  Min  Max\n",
       "0        1   443   255  255  255\n",
       "1        2   290   255  255  255\n",
       "2        3   361   255  255  255\n",
       "3        4   466   255  255  255\n",
       "4        5   306   255  255  255\n",
       "...    ...   ...   ...  ...  ...\n",
       "1412  1413   483   255  255  255\n",
       "1413  1414   421   255  255  255\n",
       "1414  1415   303   255  255  255\n",
       "1415  1416   338   255  255  255\n",
       "1416  1417   291   255  255  255\n",
       "\n",
       "[1417 rows x 5 columns]>"
      ]
     },
     "execution_count": 6,
     "metadata": {},
     "output_type": "execute_result"
    }
   ],
   "source": [
    "# Code to read Results and show head\n",
    "measurements = pd.read_csv('image_files/Results.csv')\n",
    "measurements.head"
   ]
  },
  {
   "cell_type": "code",
   "execution_count": 11,
   "metadata": {
    "id": "Mz-INH79g5Ks"
   },
   "outputs": [
    {
     "data": {
      "text/plain": [
       "<AxesSubplot:xlabel='Area', ylabel='Count'>"
      ]
     },
     "execution_count": 11,
     "metadata": {},
     "output_type": "execute_result"
    },
    {
     "data": {
      "image/png": "[encoded data removed]",
      "text/plain": [
       "<Figure size 640x480 with 1 Axes>"
      ]
     },
     "metadata": {},
     "output_type": "display_data"
    }
   ],
   "source": [
    "# Code to plot a histogram of the Area\n",
    "sns.histplot(data=measurements, x=\"Area\", binwidth=10)\n",
    "\n",
    "# measurements['Area'].hist(bins=100, grid=False, xlabelsize=12, ylabelsize=12)\n",
    "# plt.xlabel(\"Area\", fontsize=15)\n",
    "# plt.ylabel(\"Frequency\",fontsize=15)\n",
    "# plt.xlim([0.0,300])"
   ]
  },
  {
   "cell_type": "markdown",
   "metadata": {
    "id": "ZtcMHckuiydC"
   },
   "source": [
    "Calculate the mean and the standard deviation of the distribution and show them below. (HINT: pandas can do this easily)"
   ]
  },
  {
   "cell_type": "code",
   "execution_count": 14,
   "metadata": {
    "id": "T9lYcgiBhxUE"
   },
   "outputs": [
    {
     "data": {
      "text/plain": [
       "340.3189837685251"
      ]
     },
     "execution_count": 14,
     "metadata": {},
     "output_type": "execute_result"
    }
   ],
   "source": [
    "# Calculate mean\n",
    "mu = measurements['Area'].mean() \n",
    "mu"
   ]
  },
  {
   "cell_type": "code",
   "execution_count": 15,
   "metadata": {
    "id": "UEgg0XZdi_76"
   },
   "outputs": [
    {
     "data": {
      "text/plain": [
       "71.32315760162327"
      ]
     },
     "execution_count": 15,
     "metadata": {},
     "output_type": "execute_result"
    }
   ],
   "source": [
    "# Calculate standard deviation\n",
    "sigma = measurements['Area'].std() \n",
    "sigma"
   ]
  },
  {
   "cell_type": "markdown",
   "metadata": {
    "id": "pE62XfF4kgwJ"
   },
   "source": [
    "#### Describe your interpretation of the distribution of the measurements of nuclear area below. \n",
    "Based on what you see, would you choose different value ranges of particle sizes for counting? Explain why.\n"
   ]
  },
  {
   "cell_type": "markdown",
   "metadata": {},
   "source": []
  }
 ],
 "metadata": {
  "colab": {
   "authorship_tag": "ABX9TyObmlPj4IhDlnaGbqdKLDog",
   "include_colab_link": true,
   "private_outputs": true,
   "provenance": []
  },
  "kernelspec": {
   "display_name": "Python 3 (ipykernel)",
   "language": "python",
   "name": "python3"
  },
  "language_info": {
   "codemirror_mode": {
    "name": "ipython",
    "version": 3
   },
   "file_extension": ".py",
   "mimetype": "text/x-python",
   "name": "python",
   "nbconvert_exporter": "python",
   "pygments_lexer": "ipython3",
   "version": "3.9.13"
  }
 },
 "nbformat": 4,
 "nbformat_minor": 1
}
